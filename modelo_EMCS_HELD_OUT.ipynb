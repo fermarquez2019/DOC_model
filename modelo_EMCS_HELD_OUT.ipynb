{
 "cells": [
  {
   "cell_type": "markdown",
   "metadata": {},
   "source": [
    "# Modelo DOC: \n",
    "\n",
    "## Preprocesamiento held out"
   ]
  },
  {
   "cell_type": "code",
   "execution_count": 1,
   "metadata": {},
   "outputs": [
    {
     "data": {
      "text/plain": [
       "'/Users/fernandomarquez/Documents/Fleni/Investigacion/Modelo_EMCS/Modelo3_mes1'"
      ]
     },
     "execution_count": 1,
     "metadata": {},
     "output_type": "execute_result"
    }
   ],
   "source": [
    "pwd"
   ]
  },
  {
   "cell_type": "code",
   "execution_count": 2,
   "metadata": {},
   "outputs": [
    {
     "name": "stderr",
     "output_type": "stream",
     "text": [
      "/Users/fernandomarquez/.local/lib/python3.7/site-packages/statsmodels/tools/_testing.py:19: FutureWarning: pandas.util.testing is deprecated. Use the functions in the public API at pandas.testing instead.\n",
      "  import pandas.util.testing as tm\n"
     ]
    }
   ],
   "source": [
    "#Carga de las librerías y datasets utilizados\n",
    "import numpy as np\n",
    "import pandas as pd\n",
    "import matplotlib.pylab as plt\n",
    "import seaborn as sns\n",
    "import sklearn\n",
    "\n",
    "df= pd.read_excel('/Users/fernandomarquez/Documents/Fleni/DF/vero_completado.xlsx',\n",
    "                  parse_dates=['Fecha de ingreso', 'Fecha de alta del prote',\n",
    "                  'Fecha de alta  internación','Fecha de la lesión'])"
   ]
  },
  {
   "cell_type": "markdown",
   "metadata": {},
   "source": [
    "## Dropna"
   ]
  },
  {
   "cell_type": "code",
   "execution_count": 3,
   "metadata": {},
   "outputs": [],
   "source": [
    "df=df.dropna(subset=['CRSe_T'])"
   ]
  },
  {
   "cell_type": "code",
   "execution_count": 4,
   "metadata": {},
   "outputs": [
    {
     "data": {
      "text/plain": [
       "0.0    9\n",
       "1.0    8\n",
       "Name: EMCS, dtype: int64"
      ]
     },
     "execution_count": 4,
     "metadata": {},
     "output_type": "execute_result"
    }
   ],
   "source": [
    "df.EMCS.value_counts()"
   ]
  },
  {
   "cell_type": "markdown",
   "metadata": {},
   "source": [
    "## Columnas"
   ]
  },
  {
   "cell_type": "code",
   "execution_count": 5,
   "metadata": {},
   "outputs": [],
   "source": [
    "#Eliminar columnas que no son numericas\n",
    "cols_drop=['Agregados','Año estadistica', \n",
    "           'Apellido y Nombre',\n",
    "           'Observaciones',\n",
    "       'Finalización tratamiento: SI - NO',\n",
    "       'Motivo no finalizacion: obito o derivacion sin reingreso',\n",
    "       'Destino al finalizar: CR - arriba (cronicos)- externacion',\n",
    "       'Derivacion SI-NO', 'Tipo de diagnóstico',\n",
    "       'Tiempo de evolución al ingreso (días) (autom.)',\n",
    "       'Cantidad días del programa (autom.)',\n",
    "       'EMCS_uso_objetos ', 'EMCS_comunicacion', 'FIM Inicio', 'FIM Alta',\n",
    "       'Unnamed: 44', 'Unnamed: 49', 'Unnamed: 50',\n",
    "       'excluidos'\n",
    "          ]\n",
    "#Dropeo las columnas que no son numericas\n",
    "df = df.drop(cols_drop, 1)"
   ]
  },
  {
   "cell_type": "code",
   "execution_count": 6,
   "metadata": {},
   "outputs": [
    {
     "data": {
      "text/plain": [
       "Index(['NHC', 'ingreso', 'alta_prote', 'alta', 'edad', 'genero', 'etiologia',\n",
       "       'lesion', 'CRSi_A', 'CRSi_V', 'CRSi_M', 'CRSi_Ve', 'CRSi_C', 'CRSi_Ar',\n",
       "       'CRSi_T', 'conciencia_i', 'JFK_T', 'JFK_A', 'JFK_V', 'JFK_M', 'JFK_Ve',\n",
       "       'JFK_C', 'JFK_Ar', 'EMERGENCIA', 'JFK_fecha', 'CRSe_A', 'CRSe_V',\n",
       "       'CRSe_M', 'CRSe_Ve', 'CRSe_C', 'CRSe_Ar', 'CRSe_T', 'conciencia_e'],\n",
       "      dtype='object')"
      ]
     },
     "execution_count": 6,
     "metadata": {},
     "output_type": "execute_result"
    }
   ],
   "source": [
    "dict_cols= {'Nro HC':'NHC',\n",
    "            'Apellido y Nombre':'nya',\n",
    "            'Fecha de ingreso':'ingreso',\n",
    "            'Fecha de alta del prote':'alta_prote',\n",
    "            'Fecha de alta  internación':'alta',\n",
    "            'Edad':'edad', \n",
    "            'Sexo':'genero',\n",
    "            'Diagnóstico (TEC, ANOXIA, OTROS)':'etiologia', \n",
    "            'Fecha de la lesión':'lesion',\n",
    "            'Estado de conciencia al  Alta emergencia con uno o dos crietrios ?':'conciencia_e',\n",
    "            'SVSR/MC Inicial':'conciencia_i',\n",
    "            'EMCS_uso_objetos ':'EMCS_uso_objetos', 'EMCS_comunicacion':'EMCS_comunicacion',\n",
    "           'EMCS':'EMERGENCIA'}\n",
    "#Renombrado de columnas\n",
    "df=df.rename(columns=dict_cols)\n",
    "df.columns"
   ]
  },
  {
   "cell_type": "code",
   "execution_count": 7,
   "metadata": {},
   "outputs": [
    {
     "data": {
      "text/html": [
       "<div>\n",
       "<style scoped>\n",
       "    .dataframe tbody tr th:only-of-type {\n",
       "        vertical-align: middle;\n",
       "    }\n",
       "\n",
       "    .dataframe tbody tr th {\n",
       "        vertical-align: top;\n",
       "    }\n",
       "\n",
       "    .dataframe thead th {\n",
       "        text-align: right;\n",
       "    }\n",
       "</style>\n",
       "<table border=\"1\" class=\"dataframe\">\n",
       "  <thead>\n",
       "    <tr style=\"text-align: right;\">\n",
       "      <th></th>\n",
       "      <th>Total</th>\n",
       "      <th>Percent</th>\n",
       "    </tr>\n",
       "  </thead>\n",
       "  <tbody>\n",
       "    <tr>\n",
       "      <th>conciencia_e</th>\n",
       "      <td>0</td>\n",
       "      <td>0.0</td>\n",
       "    </tr>\n",
       "    <tr>\n",
       "      <th>conciencia_i</th>\n",
       "      <td>0</td>\n",
       "      <td>0.0</td>\n",
       "    </tr>\n",
       "    <tr>\n",
       "      <th>ingreso</th>\n",
       "      <td>0</td>\n",
       "      <td>0.0</td>\n",
       "    </tr>\n",
       "    <tr>\n",
       "      <th>alta_prote</th>\n",
       "      <td>0</td>\n",
       "      <td>0.0</td>\n",
       "    </tr>\n",
       "    <tr>\n",
       "      <th>alta</th>\n",
       "      <td>0</td>\n",
       "      <td>0.0</td>\n",
       "    </tr>\n",
       "    <tr>\n",
       "      <th>edad</th>\n",
       "      <td>0</td>\n",
       "      <td>0.0</td>\n",
       "    </tr>\n",
       "    <tr>\n",
       "      <th>genero</th>\n",
       "      <td>0</td>\n",
       "      <td>0.0</td>\n",
       "    </tr>\n",
       "    <tr>\n",
       "      <th>etiologia</th>\n",
       "      <td>0</td>\n",
       "      <td>0.0</td>\n",
       "    </tr>\n",
       "    <tr>\n",
       "      <th>lesion</th>\n",
       "      <td>0</td>\n",
       "      <td>0.0</td>\n",
       "    </tr>\n",
       "    <tr>\n",
       "      <th>CRSi_A</th>\n",
       "      <td>0</td>\n",
       "      <td>0.0</td>\n",
       "    </tr>\n",
       "    <tr>\n",
       "      <th>CRSi_V</th>\n",
       "      <td>0</td>\n",
       "      <td>0.0</td>\n",
       "    </tr>\n",
       "    <tr>\n",
       "      <th>CRSi_M</th>\n",
       "      <td>0</td>\n",
       "      <td>0.0</td>\n",
       "    </tr>\n",
       "    <tr>\n",
       "      <th>CRSi_Ve</th>\n",
       "      <td>0</td>\n",
       "      <td>0.0</td>\n",
       "    </tr>\n",
       "    <tr>\n",
       "      <th>CRSi_C</th>\n",
       "      <td>0</td>\n",
       "      <td>0.0</td>\n",
       "    </tr>\n",
       "    <tr>\n",
       "      <th>CRSi_Ar</th>\n",
       "      <td>0</td>\n",
       "      <td>0.0</td>\n",
       "    </tr>\n",
       "    <tr>\n",
       "      <th>CRSi_T</th>\n",
       "      <td>0</td>\n",
       "      <td>0.0</td>\n",
       "    </tr>\n",
       "    <tr>\n",
       "      <th>JFK_T</th>\n",
       "      <td>0</td>\n",
       "      <td>0.0</td>\n",
       "    </tr>\n",
       "    <tr>\n",
       "      <th>CRSe_T</th>\n",
       "      <td>0</td>\n",
       "      <td>0.0</td>\n",
       "    </tr>\n",
       "    <tr>\n",
       "      <th>JFK_A</th>\n",
       "      <td>0</td>\n",
       "      <td>0.0</td>\n",
       "    </tr>\n",
       "    <tr>\n",
       "      <th>JFK_V</th>\n",
       "      <td>0</td>\n",
       "      <td>0.0</td>\n",
       "    </tr>\n",
       "    <tr>\n",
       "      <th>JFK_M</th>\n",
       "      <td>0</td>\n",
       "      <td>0.0</td>\n",
       "    </tr>\n",
       "    <tr>\n",
       "      <th>JFK_Ve</th>\n",
       "      <td>0</td>\n",
       "      <td>0.0</td>\n",
       "    </tr>\n",
       "    <tr>\n",
       "      <th>JFK_C</th>\n",
       "      <td>0</td>\n",
       "      <td>0.0</td>\n",
       "    </tr>\n",
       "    <tr>\n",
       "      <th>JFK_Ar</th>\n",
       "      <td>0</td>\n",
       "      <td>0.0</td>\n",
       "    </tr>\n",
       "    <tr>\n",
       "      <th>EMERGENCIA</th>\n",
       "      <td>0</td>\n",
       "      <td>0.0</td>\n",
       "    </tr>\n",
       "    <tr>\n",
       "      <th>JFK_fecha</th>\n",
       "      <td>0</td>\n",
       "      <td>0.0</td>\n",
       "    </tr>\n",
       "    <tr>\n",
       "      <th>CRSe_A</th>\n",
       "      <td>0</td>\n",
       "      <td>0.0</td>\n",
       "    </tr>\n",
       "    <tr>\n",
       "      <th>CRSe_V</th>\n",
       "      <td>0</td>\n",
       "      <td>0.0</td>\n",
       "    </tr>\n",
       "    <tr>\n",
       "      <th>CRSe_M</th>\n",
       "      <td>0</td>\n",
       "      <td>0.0</td>\n",
       "    </tr>\n",
       "    <tr>\n",
       "      <th>CRSe_Ve</th>\n",
       "      <td>0</td>\n",
       "      <td>0.0</td>\n",
       "    </tr>\n",
       "    <tr>\n",
       "      <th>CRSe_C</th>\n",
       "      <td>0</td>\n",
       "      <td>0.0</td>\n",
       "    </tr>\n",
       "    <tr>\n",
       "      <th>CRSe_Ar</th>\n",
       "      <td>0</td>\n",
       "      <td>0.0</td>\n",
       "    </tr>\n",
       "    <tr>\n",
       "      <th>NHC</th>\n",
       "      <td>0</td>\n",
       "      <td>0.0</td>\n",
       "    </tr>\n",
       "  </tbody>\n",
       "</table>\n",
       "</div>"
      ],
      "text/plain": [
       "              Total  Percent\n",
       "conciencia_e      0      0.0\n",
       "conciencia_i      0      0.0\n",
       "ingreso           0      0.0\n",
       "alta_prote        0      0.0\n",
       "alta              0      0.0\n",
       "edad              0      0.0\n",
       "genero            0      0.0\n",
       "etiologia         0      0.0\n",
       "lesion            0      0.0\n",
       "CRSi_A            0      0.0\n",
       "CRSi_V            0      0.0\n",
       "CRSi_M            0      0.0\n",
       "CRSi_Ve           0      0.0\n",
       "CRSi_C            0      0.0\n",
       "CRSi_Ar           0      0.0\n",
       "CRSi_T            0      0.0\n",
       "JFK_T             0      0.0\n",
       "CRSe_T            0      0.0\n",
       "JFK_A             0      0.0\n",
       "JFK_V             0      0.0\n",
       "JFK_M             0      0.0\n",
       "JFK_Ve            0      0.0\n",
       "JFK_C             0      0.0\n",
       "JFK_Ar            0      0.0\n",
       "EMERGENCIA        0      0.0\n",
       "JFK_fecha         0      0.0\n",
       "CRSe_A            0      0.0\n",
       "CRSe_V            0      0.0\n",
       "CRSe_M            0      0.0\n",
       "CRSe_Ve           0      0.0\n",
       "CRSe_C            0      0.0\n",
       "CRSe_Ar           0      0.0\n",
       "NHC               0      0.0"
      ]
     },
     "execution_count": 7,
     "metadata": {},
     "output_type": "execute_result"
    }
   ],
   "source": [
    "def draw_missing_data_table(df):\n",
    "    total = df.isnull().sum().sort_values(ascending=False)\n",
    "    percent = (df.isnull().sum()/df.isnull().count()).sort_values(ascending=False)\n",
    "    missing_data = pd.concat([total, percent], axis=1, keys=['Total', 'Percent'])\n",
    "    return missing_data\n",
    "draw_missing_data_table(df)"
   ]
  },
  {
   "cell_type": "markdown",
   "metadata": {},
   "source": [
    "### Excluir los que emergieron al ingreso"
   ]
  },
  {
   "cell_type": "code",
   "execution_count": 8,
   "metadata": {},
   "outputs": [],
   "source": [
    "df=df.loc[df.conciencia_i != 'EMCS']"
   ]
  },
  {
   "cell_type": "code",
   "execution_count": 9,
   "metadata": {},
   "outputs": [],
   "source": [
    "def autoconvert_datetime(value):\n",
    "    formats = ['%m/%d/%Y', '%m-%d-%y']  # formats to try\n",
    "    result_format = '%d-%m-%Y'  # output format\n",
    "    for dt_format in formats:\n",
    "        try:\n",
    "            dt_obj = datetime.strptime(value, dt_format)\n",
    "            return dt_obj.strftime(result_format)\n",
    "        except Exception as e:  # throws exception when format doesn't match\n",
    "            pass\n",
    "    return value  # let it be if it doesn't match\n",
    "\n",
    "df['ingreso'] = df['ingreso'].apply(autoconvert_datetime)\n",
    "df['alta_prote'] = df['alta_prote'].apply(autoconvert_datetime)\n",
    "df['alta'] = df['alta'].apply(autoconvert_datetime)"
   ]
  },
  {
   "cell_type": "code",
   "execution_count": 10,
   "metadata": {},
   "outputs": [
    {
     "data": {
      "text/plain": [
       "NHC                    float64\n",
       "ingreso         datetime64[ns]\n",
       "alta_prote              object\n",
       "alta                    object\n",
       "edad                   float64\n",
       "genero                  object\n",
       "etiologia               object\n",
       "lesion          datetime64[ns]\n",
       "CRSi_A                 float64\n",
       "CRSi_V                 float64\n",
       "CRSi_M                 float64\n",
       "CRSi_Ve                float64\n",
       "CRSi_C                 float64\n",
       "CRSi_Ar                float64\n",
       "CRSi_T                 float64\n",
       "conciencia_i            object\n",
       "JFK_T                  float64\n",
       "JFK_A                  float64\n",
       "JFK_V                  float64\n",
       "JFK_M                  float64\n",
       "JFK_Ve                 float64\n",
       "JFK_C                  float64\n",
       "JFK_Ar                 float64\n",
       "EMERGENCIA             float64\n",
       "JFK_fecha       datetime64[ns]\n",
       "CRSe_A                  object\n",
       "CRSe_V                 float64\n",
       "CRSe_M                 float64\n",
       "CRSe_Ve                float64\n",
       "CRSe_C                 float64\n",
       "CRSe_Ar                float64\n",
       "CRSe_T                 float64\n",
       "conciencia_e            object\n",
       "dtype: object"
      ]
     },
     "execution_count": 10,
     "metadata": {},
     "output_type": "execute_result"
    }
   ],
   "source": [
    "df.dtypes"
   ]
  },
  {
   "cell_type": "markdown",
   "metadata": {},
   "source": [
    "# Mapping"
   ]
  },
  {
   "cell_type": "code",
   "execution_count": 11,
   "metadata": {},
   "outputs": [],
   "source": [
    "dic_conciencia_e={'SVSR':'SVSR', \n",
    "                  'SMC':'EMCS', \n",
    "                  'MC':'MC', \n",
    "                  'EMC':'EMCS',\n",
    "                  'EMCS':'EMCS',\n",
    "                  'MC ':'MC'}\n",
    "df['conciencia_e']=df['conciencia_e'].map(dic_conciencia_e)"
   ]
  },
  {
   "cell_type": "code",
   "execution_count": 12,
   "metadata": {},
   "outputs": [],
   "source": [
    "#Agrego columna de edad mapeada con 1 por defecto\n",
    "df['edad_map']=1\n",
    "#Cambio el 1 por 0 en los pacientes menores de 30 años\n",
    "df.loc[(df['edad'] < 30), 'edad_map']=0\n",
    "\n",
    "#Agrego columna de edad mapeada con 1 por defecto\n",
    "df['edad_map1']=1\n",
    "#Cambio el 1 por 0 en los pacientes menores de 50 años\n",
    "df.loc[(df['edad'] < 50), 'edad_map1']=0"
   ]
  },
  {
   "cell_type": "code",
   "execution_count": 13,
   "metadata": {},
   "outputs": [
    {
     "data": {
      "text/plain": [
       "count     16.000000\n",
       "mean     183.000000\n",
       "std      172.714794\n",
       "min       11.000000\n",
       "25%       68.500000\n",
       "50%      125.500000\n",
       "75%      241.250000\n",
       "max      575.000000\n",
       "Name: LOS, dtype: float64"
      ]
     },
     "execution_count": 13,
     "metadata": {},
     "output_type": "execute_result"
    }
   ],
   "source": [
    "from datetime import datetime, timedelta\n",
    "\n",
    "df['alta_prote']=df['alta_prote'].values.astype('datetime64[D]')\n",
    "df['LOS']=(df['alta_prote'].values)-(df['ingreso'])\n",
    "df['LOS']=df['LOS']/ timedelta (days=1)\n",
    "df.LOS.describe()"
   ]
  },
  {
   "cell_type": "markdown",
   "metadata": {},
   "source": [
    "# Criterios de exclusion"
   ]
  },
  {
   "cell_type": "code",
   "execution_count": 14,
   "metadata": {},
   "outputs": [
    {
     "name": "stdout",
     "output_type": "stream",
     "text": [
      "Cantidad de pacientes TOTAL\n",
      "(16, 36)\n",
      "Cantidad de pacientes que estuvieron internados más de 1 MES\n",
      "(13, 36)\n"
     ]
    },
    {
     "data": {
      "text/html": [
       "<div>\n",
       "<style scoped>\n",
       "    .dataframe tbody tr th:only-of-type {\n",
       "        vertical-align: middle;\n",
       "    }\n",
       "\n",
       "    .dataframe tbody tr th {\n",
       "        vertical-align: top;\n",
       "    }\n",
       "\n",
       "    .dataframe thead th {\n",
       "        text-align: right;\n",
       "    }\n",
       "</style>\n",
       "<table border=\"1\" class=\"dataframe\">\n",
       "  <thead>\n",
       "    <tr style=\"text-align: right;\">\n",
       "      <th></th>\n",
       "      <th>NHC</th>\n",
       "      <th>ingreso</th>\n",
       "      <th>alta_prote</th>\n",
       "      <th>alta</th>\n",
       "      <th>edad</th>\n",
       "      <th>genero</th>\n",
       "      <th>etiologia</th>\n",
       "      <th>lesion</th>\n",
       "      <th>CRSi_A</th>\n",
       "      <th>CRSi_V</th>\n",
       "      <th>...</th>\n",
       "      <th>CRSe_V</th>\n",
       "      <th>CRSe_M</th>\n",
       "      <th>CRSe_Ve</th>\n",
       "      <th>CRSe_C</th>\n",
       "      <th>CRSe_Ar</th>\n",
       "      <th>CRSe_T</th>\n",
       "      <th>conciencia_e</th>\n",
       "      <th>edad_map</th>\n",
       "      <th>edad_map1</th>\n",
       "      <th>LOS</th>\n",
       "    </tr>\n",
       "    <tr>\n",
       "      <th>EMERGENCIA</th>\n",
       "      <th></th>\n",
       "      <th></th>\n",
       "      <th></th>\n",
       "      <th></th>\n",
       "      <th></th>\n",
       "      <th></th>\n",
       "      <th></th>\n",
       "      <th></th>\n",
       "      <th></th>\n",
       "      <th></th>\n",
       "      <th></th>\n",
       "      <th></th>\n",
       "      <th></th>\n",
       "      <th></th>\n",
       "      <th></th>\n",
       "      <th></th>\n",
       "      <th></th>\n",
       "      <th></th>\n",
       "      <th></th>\n",
       "      <th></th>\n",
       "      <th></th>\n",
       "    </tr>\n",
       "  </thead>\n",
       "  <tbody>\n",
       "    <tr>\n",
       "      <th>0.0</th>\n",
       "      <td>9</td>\n",
       "      <td>9</td>\n",
       "      <td>9</td>\n",
       "      <td>9</td>\n",
       "      <td>9</td>\n",
       "      <td>9</td>\n",
       "      <td>9</td>\n",
       "      <td>9</td>\n",
       "      <td>9</td>\n",
       "      <td>9</td>\n",
       "      <td>...</td>\n",
       "      <td>9</td>\n",
       "      <td>9</td>\n",
       "      <td>9</td>\n",
       "      <td>9</td>\n",
       "      <td>9</td>\n",
       "      <td>9</td>\n",
       "      <td>9</td>\n",
       "      <td>9</td>\n",
       "      <td>9</td>\n",
       "      <td>9</td>\n",
       "    </tr>\n",
       "    <tr>\n",
       "      <th>1.0</th>\n",
       "      <td>4</td>\n",
       "      <td>4</td>\n",
       "      <td>4</td>\n",
       "      <td>4</td>\n",
       "      <td>4</td>\n",
       "      <td>4</td>\n",
       "      <td>4</td>\n",
       "      <td>4</td>\n",
       "      <td>4</td>\n",
       "      <td>4</td>\n",
       "      <td>...</td>\n",
       "      <td>4</td>\n",
       "      <td>4</td>\n",
       "      <td>4</td>\n",
       "      <td>4</td>\n",
       "      <td>4</td>\n",
       "      <td>4</td>\n",
       "      <td>4</td>\n",
       "      <td>4</td>\n",
       "      <td>4</td>\n",
       "      <td>4</td>\n",
       "    </tr>\n",
       "  </tbody>\n",
       "</table>\n",
       "<p>2 rows × 35 columns</p>\n",
       "</div>"
      ],
      "text/plain": [
       "            NHC  ingreso  alta_prote  alta  edad  genero  etiologia  lesion  \\\n",
       "EMERGENCIA                                                                    \n",
       "0.0           9        9           9     9     9       9          9       9   \n",
       "1.0           4        4           4     4     4       4          4       4   \n",
       "\n",
       "            CRSi_A  CRSi_V  ...  CRSe_V  CRSe_M  CRSe_Ve  CRSe_C  CRSe_Ar  \\\n",
       "EMERGENCIA                  ...                                             \n",
       "0.0              9       9  ...       9       9        9       9        9   \n",
       "1.0              4       4  ...       4       4        4       4        4   \n",
       "\n",
       "            CRSe_T  conciencia_e  edad_map  edad_map1  LOS  \n",
       "EMERGENCIA                                                  \n",
       "0.0              9             9         9          9    9  \n",
       "1.0              4             4         4          4    4  \n",
       "\n",
       "[2 rows x 35 columns]"
      ]
     },
     "execution_count": 14,
     "metadata": {},
     "output_type": "execute_result"
    }
   ],
   "source": [
    "print('Cantidad de pacientes TOTAL')\n",
    "print(df.shape)\n",
    "\n",
    "print('Cantidad de pacientes que estuvieron internados más de 1 MES')\n",
    "print(df[(df['LOS'] > 30)].shape)\n",
    "df[(df['LOS'] > 30)].groupby(by='EMERGENCIA').count()"
   ]
  },
  {
   "cell_type": "markdown",
   "metadata": {},
   "source": [
    "### Elimino los que tieneen menos de 30 días de seguimiento"
   ]
  },
  {
   "cell_type": "code",
   "execution_count": 15,
   "metadata": {},
   "outputs": [
    {
     "data": {
      "text/plain": [
       "count     13.000000\n",
       "mean     221.384615\n",
       "std      169.605689\n",
       "min       58.000000\n",
       "25%       90.000000\n",
       "50%      173.000000\n",
       "75%      281.000000\n",
       "max      575.000000\n",
       "Name: LOS, dtype: float64"
      ]
     },
     "execution_count": 15,
     "metadata": {},
     "output_type": "execute_result"
    }
   ],
   "source": [
    "df=df.loc[(df['LOS'] > 30)]\n",
    "df.LOS.describe()"
   ]
  },
  {
   "cell_type": "markdown",
   "metadata": {},
   "source": [
    "### Conversion columna CRSe_A object a float64"
   ]
  },
  {
   "cell_type": "code",
   "execution_count": 16,
   "metadata": {},
   "outputs": [],
   "source": [
    "df['CRSe_A']=df['CRSe_A'].astype(str).astype(int)"
   ]
  },
  {
   "cell_type": "markdown",
   "metadata": {},
   "source": [
    "### Creacion columns TIEMPO EVOLUCION"
   ]
  },
  {
   "cell_type": "code",
   "execution_count": 17,
   "metadata": {},
   "outputs": [],
   "source": [
    "df['evolucion']=df['ingreso']-df['lesion'] \n",
    "#Convertir variable timedelta en días a numero\n",
    "df['evolucion']=df['evolucion']/ timedelta (days=1)"
   ]
  },
  {
   "cell_type": "code",
   "execution_count": 18,
   "metadata": {},
   "outputs": [
    {
     "name": "stdout",
     "output_type": "stream",
     "text": [
      "['M' 'F']\n",
      "['Otros: ACV' 'ACV' 'TEC' 'Anoxia']\n",
      "['MC' 'SVSR']\n",
      "['EMCS' 'SVSR' 'MC']\n",
      "[1. 0.]\n",
      "[1 0]\n",
      "[0 1]\n"
     ]
    }
   ],
   "source": [
    "# DF de variables categoricas\n",
    "df_cat=df[['genero', 'etiologia','conciencia_i','conciencia_e', 'EMERGENCIA', 'edad_map','edad_map1']]\n",
    "for column in df_cat.columns: \n",
    "    print(df_cat[column].unique())"
   ]
  },
  {
   "cell_type": "code",
   "execution_count": 19,
   "metadata": {},
   "outputs": [
    {
     "data": {
      "text/plain": [
       "array(['ACV', 'TEC', 'Anoxia'], dtype=object)"
      ]
     },
     "execution_count": 19,
     "metadata": {},
     "output_type": "execute_result"
    }
   ],
   "source": [
    "dic = {'TEC':'TEC', 'tec':'TEC', 'TEC  ':'TEC', 'ACV':'ACV', 'Anoxia':'Anoxia', 'TEC ':'TEC', 'ANOXIA':'Anoxia', \n",
    "       'anoxia':'Anoxia','Tumor':'Tumor', 'Anoxia ':'Anoxia', ' ACV':'ACV', 'Otros: ACV':'ACV'}\n",
    "\n",
    "df['etiologia']=df['etiologia'].map(dic)\n",
    "df.etiologia.unique()"
   ]
  },
  {
   "cell_type": "markdown",
   "metadata": {},
   "source": [
    "# Nuevas variables"
   ]
  },
  {
   "cell_type": "code",
   "execution_count": 20,
   "metadata": {},
   "outputs": [],
   "source": [
    "df['seguimiento']=(df['JFK_fecha']-df['ingreso'])/ timedelta (days=1)"
   ]
  },
  {
   "cell_type": "markdown",
   "metadata": {},
   "source": [
    "# Creacion columna Varición CRS"
   ]
  },
  {
   "cell_type": "code",
   "execution_count": 21,
   "metadata": {},
   "outputs": [],
   "source": [
    "df['variacion_CRS_T']=df['JFK_T']-df['CRSi_T']\n",
    "df['variacion_CRS_A']=df['JFK_A']-df['CRSi_A']\n",
    "df['variacion_CRS_V']=df['JFK_V']-df['CRSi_V']\n",
    "df['variacion_CRS_C']=df['JFK_C']-df['CRSi_C']\n",
    "df['variacion_CRS_Ar']=df['JFK_Ar']-df['CRSi_Ar']\n",
    "df['variacion_CRS_M']=df['JFK_M']-df['CRSi_M']\n",
    "df['variacion_CRS_Ve']=df['JFK_Ve']-df['CRSi_Ve']"
   ]
  },
  {
   "cell_type": "markdown",
   "metadata": {},
   "source": [
    "# Creacion dde columna Velocidad de Variación CRS"
   ]
  },
  {
   "cell_type": "code",
   "execution_count": 22,
   "metadata": {},
   "outputs": [],
   "source": [
    "df['vel_var_CRS']=df['variacion_CRS_T'] / df['seguimiento'] \n",
    "df['vel_var_CRS_A']=df['variacion_CRS_A'] / df['seguimiento'] \n",
    "df['vel_var_CRS_V']=df['variacion_CRS_V'] / df['seguimiento'] \n",
    "df['vel_var_CRS_C']=df['variacion_CRS_C'] / df['seguimiento'] \n",
    "df['vel_var_CRS_Ar']=df['variacion_CRS_Ar'] / df['seguimiento'] \n",
    "df['vel_var_CRS_M']=df['variacion_CRS_M'] / df['seguimiento'] \n",
    "df['vel_var_CRS_Ve']=df['variacion_CRS_Ve'] / df['seguimiento'] "
   ]
  },
  {
   "cell_type": "markdown",
   "metadata": {},
   "source": [
    "# DF final"
   ]
  },
  {
   "cell_type": "markdown",
   "metadata": {},
   "source": [
    "## Preprocesado utilizado en la colab"
   ]
  },
  {
   "cell_type": "markdown",
   "metadata": {},
   "source": [
    "### Mapeo"
   ]
  },
  {
   "cell_type": "code",
   "execution_count": 23,
   "metadata": {},
   "outputs": [
    {
     "data": {
      "text/plain": [
       "count                      13\n",
       "unique                     12\n",
       "top       2019-07-04 00:00:00\n",
       "freq                        2\n",
       "first     2006-06-14 00:00:00\n",
       "last      2019-12-10 00:00:00\n",
       "Name: ingreso, dtype: object"
      ]
     },
     "execution_count": 23,
     "metadata": {},
     "output_type": "execute_result"
    }
   ],
   "source": [
    "df.ingreso.describe()"
   ]
  },
  {
   "cell_type": "code",
   "execution_count": 24,
   "metadata": {},
   "outputs": [],
   "source": [
    "#Dict to rename cols\n",
    "dict_cols= {'CRSi_A':'CRSiA', 'CRSi_V':'CRSiV','CRSi_M':'CRSiM', 'CRSi_Ve':'CRSiVe', 'CRSi_C':'CRSiC', \n",
    "            'CRSi_Ar':'CRSiAr','CRSi_T':'CRSiT'}\n",
    "#Rename cols\n",
    "df=df.rename(columns=dict_cols)"
   ]
  },
  {
   "cell_type": "markdown",
   "metadata": {},
   "source": [
    "### Dummies"
   ]
  },
  {
   "cell_type": "code",
   "execution_count": 25,
   "metadata": {},
   "outputs": [],
   "source": [
    "#Get dummies\n",
    "df=pd.get_dummies(data=df, columns=['conciencia_i','genero', 'etiologia'], prefix = 'cat', drop_first=True)\n",
    "df['cat_Tumor']=0"
   ]
  },
  {
   "cell_type": "code",
   "execution_count": 26,
   "metadata": {},
   "outputs": [
    {
     "data": {
      "text/plain": [
       "Index(['NHC', 'ingreso', 'alta_prote', 'alta', 'edad', 'lesion', 'CRSiA',\n",
       "       'CRSiV', 'CRSiM', 'CRSiVe', 'CRSiC', 'CRSiAr', 'CRSiT', 'JFK_T',\n",
       "       'JFK_A', 'JFK_V', 'JFK_M', 'JFK_Ve', 'JFK_C', 'JFK_Ar', 'EMERGENCIA',\n",
       "       'JFK_fecha', 'CRSe_A', 'CRSe_V', 'CRSe_M', 'CRSe_Ve', 'CRSe_C',\n",
       "       'CRSe_Ar', 'CRSe_T', 'conciencia_e', 'edad_map', 'edad_map1', 'LOS',\n",
       "       'evolucion', 'seguimiento', 'variacion_CRS_T', 'variacion_CRS_A',\n",
       "       'variacion_CRS_V', 'variacion_CRS_C', 'variacion_CRS_Ar',\n",
       "       'variacion_CRS_M', 'variacion_CRS_Ve', 'vel_var_CRS', 'vel_var_CRS_A',\n",
       "       'vel_var_CRS_V', 'vel_var_CRS_C', 'vel_var_CRS_Ar', 'vel_var_CRS_M',\n",
       "       'vel_var_CRS_Ve', 'cat_SVSR', 'cat_M', 'cat_Anoxia', 'cat_TEC',\n",
       "       'cat_Tumor'],\n",
       "      dtype='object')"
      ]
     },
     "execution_count": 26,
     "metadata": {},
     "output_type": "execute_result"
    }
   ],
   "source": [
    "df.columns"
   ]
  },
  {
   "cell_type": "markdown",
   "metadata": {},
   "source": [
    "### Seleccion de columnas"
   ]
  },
  {
   "cell_type": "code",
   "execution_count": 27,
   "metadata": {},
   "outputs": [],
   "source": [
    "#df=df[['edad', 'genero', 'etiologia', 'edad_map', 'edad_map1',\n",
    " #      'LOS', 'evolucion', 'CRSi_A', 'CRSi_V', 'CRSi_M', 'CRSi_Ve', 'CRSi_C',\n",
    "  #     'CRSi_Ar', 'CRSi_T', 'conciencia_i', 'JFK_A', 'JFK_V', 'JFK_M',\n",
    "   #    'JFK_Ve', 'JFK_C', 'JFK_Ar', 'JFK_T', 'seguimiento', 'variacion_CRS_T',\n",
    "    #   'variacion_CRS_A', 'variacion_CRS_V', 'variacion_CRS_C',\n",
    "     #  'variacion_CRS_Ar', 'variacion_CRS_M', 'variacion_CRS_Ve',\n",
    "      # 'vel_var_CRS', 'vel_var_CRS_A', 'vel_var_CRS_V', 'vel_var_CRS_C',\n",
    "       #'vel_var_CRS_Ar', 'vel_var_CRS_M', 'vel_var_CRS_Ve', \n",
    "       #'CRSe_A', 'CRSe_V', 'CRSe_M', 'CRSe_Ve', 'CRSe_C', 'CRSe_Ar', 'CRSe_T',\n",
    "       #'conciencia_e', 'EMERGENCIA']]"
   ]
  },
  {
   "cell_type": "markdown",
   "metadata": {},
   "source": [
    "### Scaling"
   ]
  },
  {
   "cell_type": "code",
   "execution_count": 28,
   "metadata": {},
   "outputs": [],
   "source": [
    "from sklearn.preprocessing import MinMaxScaler, StandardScaler\n",
    "\n",
    "#scaler = StandardScaler()\n",
    "#y = df['EMERGENCIA']\n",
    "#df = df.drop('EMERGENCIA', axis=1)\n",
    "#df[:] = scaler.fit_transform(df.values)\n",
    "#df['EMERGENCIA'] = y  "
   ]
  },
  {
   "cell_type": "markdown",
   "metadata": {},
   "source": [
    "### Guardo el DF"
   ]
  },
  {
   "cell_type": "code",
   "execution_count": 29,
   "metadata": {},
   "outputs": [],
   "source": [
    "#df.to_excel('df_held_out.xlsx')"
   ]
  },
  {
   "cell_type": "markdown",
   "metadata": {},
   "source": [
    "# Validación externa del reporte preliminar"
   ]
  },
  {
   "cell_type": "code",
   "execution_count": 30,
   "metadata": {},
   "outputs": [],
   "source": [
    "from sklearn.neural_network import MLPClassifier"
   ]
  },
  {
   "cell_type": "code",
   "execution_count": 31,
   "metadata": {},
   "outputs": [],
   "source": [
    "#Select model\n",
    "import pickle\n",
    "model_selected='MLPClassifier_NF37.sav'\n",
    "\n",
    "variables=['edad', 'edad_map', 'edad_map1', 'evolucion', 'cat_SVSR', 'cat_M','cat_Anoxia', 'cat_TEC',\n",
    "                       'cat_Tumor',\n",
    "                       'CRSiA', 'CRSiV', 'CRSiM','CRSiVe', 'CRSiC', 'CRSiAr', 'CRSiT',\n",
    "                       'JFK_A', 'JFK_V', 'JFK_M','JFK_Ve', 'JFK_C', 'JFK_Ar', 'JFK_T',\n",
    "                       'variacion_CRS_T','variacion_CRS_A', 'variacion_CRS_V', 'variacion_CRS_C','variacion_CRS_Ar',\n",
    "                       'variacion_CRS_M', 'variacion_CRS_Ve',\n",
    "                       'vel_var_CRS', 'vel_var_CRS_A', 'vel_var_CRS_V', 'vel_var_CRS_C','vel_var_CRS_Ar', \n",
    "                       'vel_var_CRS_M', 'vel_var_CRS_Ve']\n",
    "\n",
    "# Load the model from disk\n",
    "loaded_model = pickle.load(open(model_selected, 'rb'))"
   ]
  },
  {
   "cell_type": "code",
   "execution_count": 32,
   "metadata": {},
   "outputs": [
    {
     "data": {
      "text/plain": [
       "MLPClassifier(activation='relu', alpha=10, batch_size='auto', beta_1=0.9,\n",
       "              beta_2=0.999, early_stopping=False, epsilon=1e-08,\n",
       "              hidden_layer_sizes=81, learning_rate='constant',\n",
       "              learning_rate_init=0.001, max_fun=15000, max_iter=150,\n",
       "              momentum=0.9, n_iter_no_change=10, nesterovs_momentum=True,\n",
       "              power_t=0.5, random_state=42, shuffle=True, solver='adam',\n",
       "              tol=0.0001, validation_fraction=0.1, verbose=False,\n",
       "              warm_start=False)"
      ]
     },
     "execution_count": 32,
     "metadata": {},
     "output_type": "execute_result"
    }
   ],
   "source": [
    "loaded_model"
   ]
  },
  {
   "cell_type": "code",
   "execution_count": 33,
   "metadata": {},
   "outputs": [],
   "source": [
    "SF_MLPClassifier_NF37=df[['edad', 'edad_map', 'edad_map1', 'evolucion', 'cat_SVSR', 'cat_M','cat_Anoxia', 'cat_TEC',\n",
    "                       'cat_Tumor',\n",
    "                       'CRSiA', 'CRSiV', 'CRSiM','CRSiVe', 'CRSiC', 'CRSiAr', 'CRSiT',\n",
    "                       'JFK_A', 'JFK_V', 'JFK_M','JFK_Ve', 'JFK_C', 'JFK_Ar', 'JFK_T',\n",
    "                       'variacion_CRS_T','variacion_CRS_A', 'variacion_CRS_V', 'variacion_CRS_C','variacion_CRS_Ar',\n",
    "                       'variacion_CRS_M', 'variacion_CRS_Ve',\n",
    "                       'vel_var_CRS', 'vel_var_CRS_A', 'vel_var_CRS_V', 'vel_var_CRS_C','vel_var_CRS_Ar', \n",
    "                       'vel_var_CRS_M', 'vel_var_CRS_Ve','EMERGENCIA']]\n",
    "X_test_held_out=SF_MLPClassifier_NF37"
   ]
  },
  {
   "cell_type": "code",
   "execution_count": 34,
   "metadata": {},
   "outputs": [
    {
     "name": "stdout",
     "output_type": "stream",
     "text": [
      "                 precision    recall  f1-score   support\n",
      "\n",
      "No recuperacion       0.82      1.00      0.90         9\n",
      "   Recuperacion       1.00      0.50      0.67         4\n",
      "\n",
      "       accuracy                           0.85        13\n",
      "      macro avg       0.91      0.75      0.78        13\n",
      "   weighted avg       0.87      0.85      0.83        13\n",
      "\n"
     ]
    }
   ],
   "source": [
    "from sklearn.metrics import classification_report\n",
    "\n",
    "y_test_held_out = X_test_held_out.EMERGENCIA.values\n",
    "X_test_held_out=X_test_held_out.drop(X_test_held_out.columns[len(X_test_held_out.columns)-1], axis=1).values\n",
    "\n",
    "y_pred = loaded_model.predict(X_test_held_out)\n",
    "target_names = ['No recuperacion', 'Recuperacion']\n",
    "print(classification_report(y_test_held_out, y_pred, target_names=target_names))"
   ]
  },
  {
   "cell_type": "code",
   "execution_count": 35,
   "metadata": {},
   "outputs": [
    {
     "data": {
      "text/plain": [
       "0.75"
      ]
     },
     "execution_count": 35,
     "metadata": {},
     "output_type": "execute_result"
    }
   ],
   "source": [
    "from sklearn.metrics import balanced_accuracy_score\n",
    "balanced_accuracy_score(y_test_held_out, y_pred)"
   ]
  }
 ],
 "metadata": {
  "kernelspec": {
   "display_name": "Python 3",
   "language": "python",
   "name": "python3"
  },
  "language_info": {
   "codemirror_mode": {
    "name": "ipython",
    "version": 3
   },
   "file_extension": ".py",
   "mimetype": "text/x-python",
   "name": "python",
   "nbconvert_exporter": "python",
   "pygments_lexer": "ipython3",
   "version": "3.7.6"
  }
 },
 "nbformat": 4,
 "nbformat_minor": 4
}
